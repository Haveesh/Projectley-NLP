{
 "cells": [
  {
   "cell_type": "code",
   "execution_count": 1,
   "metadata": {},
   "outputs": [],
   "source": [
    "from __future__ import absolute_import, division, print_function\n",
    "\n",
    "import glob\n",
    "import logging\n",
    "import os\n",
    "os.environ['CUDA_VISIBLE_DEVICES']='1'\n",
    "import random\n",
    "import json\n",
    "import math\n",
    "\n",
    "import numpy as np\n",
    "import pandas as pd\n",
    "import torch\n",
    "from torch.utils.data import (DataLoader, RandomSampler, SequentialSampler,\n",
    "                              TensorDataset)\n",
    "import random\n",
    "from torch.utils.data.distributed import DistributedSampler\n",
    "from tqdm import tqdm_notebook, trange\n",
    "from tensorboardX import SummaryWriter\n",
    "import matplotlib.pyplot as plt\n",
    "import seaborn as sn\n",
    "\n",
    "\n",
    "from pytorch_transformers import (WEIGHTS_NAME, BertConfig, BertForSequenceClassification, BertTokenizer)\n",
    "\n",
    "from pytorch_transformers import AdamW, WarmupLinearSchedule\n",
    "\n",
    "from utils import (convert_examples_to_features,\n",
    "                        output_modes, processors)\n",
    "from utils_seedly import processors as seedly_processor\n",
    "\n",
    "logging.basicConfig(level=logging.INFO)\n",
    "logger = logging.getLogger(__name__)\n",
    "\n",
    "# import os\n",
    "os.environ['CUDA_LAUNCH_BLOCKING'] = \"1\""
   ]
  },
  {
   "cell_type": "markdown",
   "metadata": {},
   "source": [
    "### Configuration for training\n",
    "Configuration for such as: director for data, log and outputs\n"
   ]
  },
  {
   "cell_type": "code",
   "execution_count": 2,
   "metadata": {},
   "outputs": [],
   "source": [
    "args = {\n",
    "    'data_dir': 'data/',\n",
    "    'model_type':  'bert',\n",
    "    'model_name': 'bert-base-cased',\n",
    "    'task_name': 'binary',\n",
    "    'output_dir': 'outputs_yelp_logged_LSTM_report/',\n",
    "    'cache_dir': 'cache/',\n",
    "    'do_train': True,\n",
    "    'do_eval': True,\n",
    "    'fp16': False,\n",
    "    'fp16_opt_level': 'O1',\n",
    "    'max_seq_length': 128,\n",
    "    'output_mode': 'classification',\n",
    "    'train_batch_size': 64,\n",
    "    'eval_batch_size': 64,\n",
    "\n",
    "    'gradient_accumulation_steps': 1,\n",
    "    'num_train_epochs': 1,\n",
    "    'weight_decay': 0,\n",
    "    'learning_rate': 4e-5,\n",
    "    'adam_epsilon': 1e-8,\n",
    "    'warmup_ratio': 0.06,\n",
    "    'warmup_steps': 0,\n",
    "    'max_grad_norm': 1.0,\n",
    "\n",
    "    'logging_steps': 500,\n",
    "    'evaluate_during_training': False,\n",
    "    'save_steps': 2000,\n",
    "    'eval_all_checkpoints': True,\n",
    "\n",
    "    'overwrite_output_dir': False,\n",
    "    'reprocess_input_data': False,\n",
    "    'notes': 'Using Yelp Reviews dataset'\n",
    "}\n",
    "device = torch.device(\"cuda\" if torch.cuda.is_available() else \"cpu\")"
   ]
  },
  {
   "cell_type": "code",
   "execution_count": 3,
   "metadata": {},
   "outputs": [],
   "source": [
    "### Uncomment this if you want to train for the first time\n",
    "# if os.path.exists(args['output_dir']) and os.listdir(args['output_dir']) and args['do_train'] and not args['overwrite_output_dir']:\n",
    "#     raise ValueError(\"Output directory ({}) already exists and is not empty. Use --overwrite_output_dir to overcome.\".format(args['output_dir']))"
   ]
  },
  {
   "cell_type": "code",
   "execution_count": 4,
   "metadata": {},
   "outputs": [],
   "source": [
    "config_class, model_class, tokenizer_class = (BertConfig, BertForSequenceClassification, BertTokenizer)"
   ]
  },
  {
   "cell_type": "markdown",
   "metadata": {},
   "source": [
    "### Load tokenizer for BERT\n",
    "We use same tokenizer with BERT to compare more accurately"
   ]
  },
  {
   "cell_type": "code",
   "execution_count": 5,
   "metadata": {},
   "outputs": [
    {
     "name": "stderr",
     "output_type": "stream",
     "text": [
      "INFO:pytorch_transformers.modeling_utils:loading configuration file https://s3.amazonaws.com/models.huggingface.co/bert/bert-base-cased-config.json from cache at /home/chungsoo002/.cache/torch/pytorch_transformers/b945b69218e98b3e2c95acf911789741307dec43c698d35fad11c1ae28bda352.d7a3af18ce3a2ab7c0f48f04dc8daff45ed9a3ed333b9e9a79d012a0dedf87a6\n",
      "INFO:pytorch_transformers.modeling_utils:Model config {\n",
      "  \"attention_probs_dropout_prob\": 0.1,\n",
      "  \"finetuning_task\": \"binary\",\n",
      "  \"hidden_act\": \"gelu\",\n",
      "  \"hidden_dropout_prob\": 0.1,\n",
      "  \"hidden_size\": 768,\n",
      "  \"initializer_range\": 0.02,\n",
      "  \"intermediate_size\": 3072,\n",
      "  \"layer_norm_eps\": 1e-12,\n",
      "  \"max_position_embeddings\": 512,\n",
      "  \"num_attention_heads\": 12,\n",
      "  \"num_hidden_layers\": 12,\n",
      "  \"num_labels\": 5,\n",
      "  \"output_attentions\": false,\n",
      "  \"output_hidden_states\": false,\n",
      "  \"pruned_heads\": {},\n",
      "  \"torchscript\": false,\n",
      "  \"type_vocab_size\": 2,\n",
      "  \"vocab_size\": 28996\n",
      "}\n",
      "\n",
      "INFO:pytorch_transformers.tokenization_utils:loading file https://s3.amazonaws.com/models.huggingface.co/bert/bert-base-cased-vocab.txt from cache at /home/chungsoo002/.cache/torch/pytorch_transformers/5e8a2b4893d13790ed4150ca1906be5f7a03d6c4ddf62296c383f6db42814db2.e13dbb970cb325137104fb2e5f36fe865f27746c6b526f6352861b1980eb80b1\n"
     ]
    }
   ],
   "source": [
    "config = config_class.from_pretrained(args['model_name'], num_labels=5, finetuning_task=args['task_name'])\n",
    "tokenizer = tokenizer_class.from_pretrained(args['model_name'])"
   ]
  },
  {
   "cell_type": "markdown",
   "metadata": {},
   "source": [
    "###  Define LSTM Model \n",
    "On top of BERT tokenizer, we stack 5 layers of LSTM with hidden dimension of 768."
   ]
  },
  {
   "cell_type": "code",
   "execution_count": 6,
   "metadata": {},
   "outputs": [],
   "source": [
    "criterion=torch.nn.CrossEntropyLoss()\n",
    "class LSTM_yelp(torch.nn.Module):\n",
    "\n",
    "    def __init__(self):\n",
    "        super(LSTM_yelp, self).__init__()\n",
    "        self.embedding = torch.nn.Embedding(28996, 768)\n",
    "        self.rnn = torch.nn.LSTM(768, 768, num_layers=5, dropout=0.3, batch_first=True)\n",
    "        self.output = torch.nn.Linear(768, 5)\n",
    "\n",
    "        \n",
    "    def forward(self, input_ids, labels):\n",
    "        emb = self.embedding(input_ids)\n",
    "        h, _ = self.rnn(emb)\n",
    "        logit = self.output(h[:, -1, :])\n",
    "        loss = criterion(logit, labels)\n",
    "        \n",
    "        return loss, logit, []\n",
    "    \n",
    "    def save_pretrained(self, save_directory):\n",
    "        \"\"\" Save a model and its configuration file to a directory, so that it\n",
    "            can be re-loaded using the `:func:`~transformers.PreTrainedModel.from_pretrained`` class method.\n",
    "        \"\"\"\n",
    "        assert os.path.isdir(save_directory), \"Saving path should be a directory where the model and configuration can be saved\"\n",
    "\n",
    "        # Only save the model it-self if we are using distributed training\n",
    "        model_to_save = self.module if hasattr(self, 'module') else self\n",
    "\n",
    "        # Save configuration file\n",
    "#         model_to_save.config.save_pretrained(save_directory)\n",
    "\n",
    "        # If we save using the predefined names, we can load using `from_pretrained`\n",
    "        output_model_file = os.path.join(save_directory, WEIGHTS_NAME)\n",
    "        torch.save(model_to_save.state_dict(), output_model_file)\n",
    "        logger.info(\"Model weights saved in {}\".format(output_model_file))"
   ]
  },
  {
   "cell_type": "code",
   "execution_count": 7,
   "metadata": {},
   "outputs": [],
   "source": [
    "### Uncomment this if you want to train for the first time\n",
    "# model = LSTM_yelp()\n",
    "# model.to(device);"
   ]
  },
  {
   "cell_type": "markdown",
   "metadata": {},
   "source": [
    "### DataLoader\n",
    "Here we define functions to efficiently load data and then feed into the neural network."
   ]
  },
  {
   "cell_type": "code",
   "execution_count": 8,
   "metadata": {},
   "outputs": [],
   "source": [
    "task = args['task_name']\n",
    "\n",
    "if task in processors.keys() and task in output_modes.keys():\n",
    "    processor = processors[task]()\n",
    "    label_list = processor.get_labels()\n",
    "    num_labels = len(label_list)\n",
    "else:\n",
    "    raise KeyError(f'{task} not found in processors or in output_modes. Please check utils.py.')"
   ]
  },
  {
   "cell_type": "code",
   "execution_count": 9,
   "metadata": {},
   "outputs": [],
   "source": [
    "from torch.utils.data import Dataset, DataLoader\n",
    "\n",
    "class yelpDataset(Dataset):\n",
    "  def __init__(self, examples, label_list, args, tokenizer, output_mode):\n",
    "    self.examples=examples\n",
    "    self.label_list = label_list\n",
    "    self.args = args\n",
    "    self.tokenizer = tokenizer\n",
    "    self.output_mode = output_mode\n",
    "      \n",
    "  def __len__(self):\n",
    "    # return size of dataset\n",
    "    return len(self.examples)\n",
    "      \n",
    "  def __getitem__(self, idx):\n",
    "    features = convert_examples_to_features(self.examples[idx], self.label_list, self.args['max_seq_length'], self.tokenizer, self.output_mode,\n",
    "                cls_token_at_end=bool(self.args['model_type'] in ['xlnet']),            \n",
    "                cls_token=self.tokenizer.cls_token,\n",
    "                cls_token_segment_id=2 if self.args['model_type'] in ['xlnet'] else 0,\n",
    "                sep_token=self.tokenizer.sep_token,\n",
    "                sep_token_extra=bool(self.args['model_type'] in ['roberta']),           \n",
    "                pad_on_left=bool(self.args['model_type'] in ['xlnet']),                 \n",
    "                pad_token=self.tokenizer.convert_tokens_to_ids([self.tokenizer.pad_token])[0],\n",
    "                pad_token_segment_id=4 if self.args['model_type'] in ['xlnet'] else 0)\n",
    "    \n",
    "    all_input_ids = torch.tensor(features.input_ids, dtype=torch.long)\n",
    "    all_input_mask = torch.tensor(features.input_mask, dtype=torch.long)\n",
    "    all_segment_ids = torch.tensor(features.segment_ids, dtype=torch.long)\n",
    "    if self.output_mode == \"classification\":\n",
    "        all_label_ids = torch.tensor(features.label_id, dtype=torch.long)\n",
    "    elif self.output_mode == \"regression\":\n",
    "        all_label_ids = torch.tensor(features.label_id, dtype=torch.float)\n",
    "\n",
    "    dataset = (all_input_ids, all_input_mask, all_segment_ids, all_label_ids)\n",
    "    return dataset"
   ]
  },
  {
   "cell_type": "code",
   "execution_count": 10,
   "metadata": {},
   "outputs": [],
   "source": [
    "def load_and_cache_examples(task, tokenizer, mode):\n",
    "    processor = processors[task]()\n",
    "    output_mode = args['output_mode']\n",
    "    \n",
    "    \n",
    "    label_list = processor.get_labels()\n",
    "    if mode == 'train':\n",
    "        examples = processor.get_train_examples(args['data_dir'])\n",
    "    elif mode == 'eval':\n",
    "        examples = processor.get_dev_examples(args['data_dir'])\n",
    "    elif mode == 'test':\n",
    "        examples = processor.get_test_examples(args['data_dir'])\n",
    "    \n",
    "        \n",
    "    if __name__ == \"__main__\":\n",
    "        dataset=yelpDataset(examples, label_list, args, tokenizer, output_mode)\n",
    "    return dataset"
   ]
  },
  {
   "cell_type": "markdown",
   "metadata": {},
   "source": [
    "### Define functions to compute evaluation metrics "
   ]
  },
  {
   "cell_type": "code",
   "execution_count": 11,
   "metadata": {},
   "outputs": [],
   "source": [
    "from sklearn.metrics import mean_squared_error, matthews_corrcoef, confusion_matrix\n",
    "from scipy.stats import pearsonr\n",
    "\n",
    "def get_mismatched(labels, preds):\n",
    "    mismatched = labels != preds\n",
    "    examples = processor.get_dev_examples(args['data_dir'])\n",
    "    wrong = [i for (i, v) in zip(examples, mismatched) if v]\n",
    "    \n",
    "    return wrong\n",
    "\n",
    "def get_eval_report(labels, preds):\n",
    "    mcc = matthews_corrcoef(labels, preds)\n",
    "    cf = confusion_matrix(labels, preds, labels=[0,1,2,3,4])\n",
    "    return {\n",
    "        \"mcc\": mcc,\n",
    "        \"cf\": cf\n",
    "    }, get_mismatched(labels, preds)\n",
    "\n",
    "def compute_metrics(task_name, preds, labels):\n",
    "    assert len(preds) == len(labels)\n",
    "    return get_eval_report(labels, preds)\n"
   ]
  },
  {
   "cell_type": "markdown",
   "metadata": {},
   "source": [
    "### Train, Eval, Test function"
   ]
  },
  {
   "cell_type": "code",
   "execution_count": 12,
   "metadata": {},
   "outputs": [],
   "source": [
    "### Uncomment this if you want to train for the first time\n",
    "# def train(dataset, model, tokenizer):\n",
    "#     EVAL_TASK = args['task_name']\n",
    "#     tb_writer = SummaryWriter('./log_yelp_train_LSTM_report')\n",
    "#     train_dataset, eval_dataset, test_dataset = dataset\n",
    "    \n",
    "#     train_sampler = RandomSampler(train_dataset)\n",
    "#     train_dataloader = DataLoader(train_dataset, sampler=train_sampler, batch_size=args['train_batch_size'])\n",
    "#     eval_sampler = SequentialSampler(eval_dataset)\n",
    "#     eval_dataloader = DataLoader(eval_dataset, sampler=eval_sampler, batch_size=args['eval_batch_size'])\n",
    "#     test_sampler = SequentialSampler(test_dataset)\n",
    "#     test_dataloader = DataLoader(test_dataset, sampler=test_sampler, batch_size=args['eval_batch_size'])\n",
    "    \n",
    "#     t_total = len(train_dataloader) // args['gradient_accumulation_steps'] * args['num_train_epochs']\n",
    "    \n",
    "#     no_decay = ['bias', 'LayerNorm.weight']\n",
    "#     optimizer_grouped_parameters = [\n",
    "#         {'params': [p for n, p in model.named_parameters() if not any(nd in n for nd in no_decay)], 'weight_decay': args['weight_decay']},\n",
    "#         {'params': [p for n, p in model.named_parameters() if any(nd in n for nd in no_decay)], 'weight_decay': 0.0}\n",
    "#         ]\n",
    "    \n",
    "#     warmup_steps = math.ceil(t_total * args['warmup_ratio'])\n",
    "#     args['warmup_steps'] = warmup_steps if args['warmup_steps'] == 0 else args['warmup_steps']\n",
    "    \n",
    "#     optimizer = AdamW(optimizer_grouped_parameters, lr=args['learning_rate'], eps=args['adam_epsilon'])\n",
    "#     scheduler = WarmupLinearSchedule(optimizer, warmup_steps=args['warmup_steps'], t_total=t_total)\n",
    "    \n",
    "#     if args['fp16']:\n",
    "#         try:\n",
    "#             from apex import amp\n",
    "#         except ImportError:\n",
    "#             raise ImportError(\"Please install apex from https://www.github.com/nvidia/apex to use fp16 training.\")\n",
    "#         model, optimizer = amp.initialize(model, optimizer, opt_level=args['fp16_opt_level'])\n",
    "        \n",
    "#     logger.info(\"***** Running training *****\")\n",
    "#     logger.info(\"  Num examples = %d\", len(train_dataset))\n",
    "#     logger.info(\"  Num Epochs = %d\", args['num_train_epochs'])\n",
    "#     logger.info(\"  Total train batch size  = %d\", args['train_batch_size'])\n",
    "#     logger.info(\"  Gradient Accumulation steps = %d\", args['gradient_accumulation_steps'])\n",
    "#     logger.info(\"  Total optimization steps = %d\", t_total)\n",
    "\n",
    "#     global_step = 0\n",
    "    \n",
    "#     model.zero_grad()\n",
    "#     train_iterator = trange(int(args['num_train_epochs']), desc=\"Epoch\")\n",
    "#     epoch = 0\n",
    "#     for _ in train_iterator:\n",
    "#         epoch += 1\n",
    "#         epoch_iterator = tqdm_notebook(train_dataloader, desc=\"Iteration\")\n",
    "#         tr_loss, logging_loss = 0.0, 0.0\n",
    "#         tr_acc, log_acc = 0.0, 0.0\n",
    "#         nb_train_steps = 0\n",
    "#         for step, batch in enumerate(epoch_iterator):\n",
    "#             model.train()\n",
    "#             batch = tuple(t.to(device) for t in batch)\n",
    "#             inputs = {'input_ids':      batch[0],\n",
    "#                       'attention_mask': batch[1],\n",
    "#                       'token_type_ids': batch[2] if args['model_type'] in ['bert', 'xlnet'] else None,  # XLM don't use segment_ids\n",
    "#                       'labels':         batch[3]}\n",
    "#             outputs = model(batch[0], batch[3])\n",
    "#             loss, logits = outputs[0:2]  # model outputs are always tuple in pytorch-transformers (see doc)\n",
    "#             print(\"\\r%f\" % loss, end='')\n",
    "#             nb_train_steps += 1\n",
    "#             preds = logits.detach().cpu().numpy()\n",
    "#             out_label_ids = inputs['labels'].detach().cpu().numpy()\n",
    "\n",
    "#             if args['output_mode'] == \"classification\":\n",
    "#                 preds = np.argmax(preds, axis=1)\n",
    "#             elif args['output_mode'] == \"regression\":\n",
    "#                 preds = np.squeeze(preds)\n",
    "#             result, wrong = compute_metrics(EVAL_TASK, preds, out_label_ids)\n",
    "#             c = result['cf']\n",
    "#             acc=(c[0,0] + c[1,1] + c[2,2] + c[3,3] + c[4,4])/np.sum(np.sum(c))\n",
    "\n",
    "\n",
    "#             if args['gradient_accumulation_steps'] > 1:\n",
    "#                 loss = loss / args['gradient_accumulation_steps']\n",
    "\n",
    "#             if args['fp16']:\n",
    "#                 with amp.scale_loss(loss, optimizer) as scaled_loss:\n",
    "#                     scaled_loss.backward()\n",
    "#                 torch.nn.utils.clip_grad_norm_(amp.master_params(optimizer), args['max_grad_norm'])\n",
    "\n",
    "#             else:\n",
    "#                 loss.backward()\n",
    "#                 torch.nn.utils.clip_grad_norm_(model.parameters(), args['max_grad_norm'])\n",
    "\n",
    "#             tr_loss += loss.item()\n",
    "#             tr_acc = (tr_acc * (nb_train_steps-1) + acc)/(nb_train_steps) \n",
    "#             if (step + 1) % args['gradient_accumulation_steps'] == 0:\n",
    "#                 optimizer.step()\n",
    "#                 scheduler.step()  # Update learning rate schedule\n",
    "#                 model.zero_grad()\n",
    "#                 global_step += 1\n",
    "\n",
    "#                 if args['logging_steps'] > 0 and global_step % args['logging_steps'] == 0:\n",
    "#                     # Log metrics\n",
    "#                     tb_writer.add_scalar('lr', scheduler.get_lr()[0], global_step)\n",
    "#                     tb_writer.add_scalar('train_loss', (tr_loss - logging_loss)/args['logging_steps'], global_step)\n",
    "#                     logging_loss = tr_loss\n",
    "#                     tb_writer.add_scalar('train_acc', tr_acc, global_step)\n",
    "                    \n",
    "#                     # Eval!\n",
    "#                     prefix = global_step\n",
    "#                     logger.info(\"***** Running evaluation {} *****\".format(prefix))\n",
    "#                     logger.info(\"  Num examples = %d\", len(eval_dataset))\n",
    "#                     logger.info(\"  Batch size = %d\", args['eval_batch_size'])\n",
    "#                     eval_loss = 0.0\n",
    "#                     nb_eval_steps = 0\n",
    "#                     preds = None\n",
    "#                     out_label_ids = None\n",
    "#                     eval_gen=tqdm_notebook(eval_dataloader, desc=\"Evaluating\")\n",
    "#                     for (eval_step,batch) in enumerate(eval_gen):      \n",
    "#                         if eval_step%100==0:\n",
    "#                             model.eval()\n",
    "#                             batch = tuple(t.to(device) for t in batch)\n",
    "\n",
    "#                             with torch.no_grad():\n",
    "#                                 inputs = {'input_ids':      batch[0],\n",
    "#                                           'attention_mask': batch[1],\n",
    "#                                           'token_type_ids': batch[2] if args['model_type'] in ['bert', 'xlnet'] else None,  # XLM don't use segment_ids\n",
    "#                                           'labels':         batch[3]}\n",
    "#                                 outputs = model(batch[0], batch[3])\n",
    "#                                 tmp_eval_loss, logits = outputs[:2]\n",
    "\n",
    "#                                 eval_loss += tmp_eval_loss.mean().item()\n",
    "#                             nb_eval_steps += 1\n",
    "#                             if preds is None:\n",
    "#                                 preds = logits.detach().cpu().numpy()\n",
    "#                                 out_label_ids = inputs['labels'].detach().cpu().numpy()\n",
    "#                             else:\n",
    "#                                 preds = np.append(preds, logits.detach().cpu().numpy(), axis=0)\n",
    "#                                 out_label_ids = np.append(out_label_ids, inputs['labels'].detach().cpu().numpy(), axis=0)\n",
    "#                     eval_loss = eval_loss / nb_eval_steps\n",
    "#                     if args['output_mode'] == \"classification\":\n",
    "#                         preds = np.argmax(preds, axis=1)\n",
    "#                     elif args['output_mode'] == \"regression\":\n",
    "#                         preds = np.squeeze(preds)\n",
    "#                     result, wrong = compute_metrics(EVAL_TASK, preds, out_label_ids)\n",
    "#                     c = result['cf']\n",
    "#                     eval_acc=(c[0,0] + c[1,1] + c[2,2] + c[3,3] + c[4,4])/np.sum(np.sum(c))\n",
    "#                     tb_writer.add_scalar('eval_loss', eval_loss, global_step)\n",
    "#                     tb_writer.add_scalar('eval_acc', eval_acc, global_step)\n",
    "                    \n",
    "#                     # Test!\n",
    "#                     logger.info(\"***** Running test {} *****\".format(prefix))\n",
    "#                     logger.info(\"  Num examples = %d\", len(test_dataset))\n",
    "#                     logger.info(\"  Batch size = %d\", args['eval_batch_size'])\n",
    "#                     test_loss = 0.0\n",
    "#                     nb_test_steps = 0\n",
    "#                     preds = None\n",
    "#                     out_label_ids = None\n",
    "#                     test_gen = tqdm_notebook(test_dataloader, desc=\"Testing\")\n",
    "#                     for (test_step,batch) in enumerate(test_gen):\n",
    "#                         if test_step%100==0:\n",
    "#                             model.eval()\n",
    "#                             batch = tuple(t.to(device) for t in batch)\n",
    "\n",
    "#                             with torch.no_grad():\n",
    "#                                 inputs = {'input_ids':      batch[0],\n",
    "#                                           'attention_mask': batch[1],\n",
    "#                                           'token_type_ids': batch[2] if args['model_type'] in ['bert', 'xlnet'] else None,  # XLM don't use segment_ids\n",
    "#                                           'labels':         batch[3]}\n",
    "#                                 outputs = model(batch[0], batch[3])\n",
    "#                                 tmp_eval_loss, logits = outputs[:2]\n",
    "\n",
    "#                                 test_loss += tmp_eval_loss.mean().item()\n",
    "#                             nb_test_steps += 1\n",
    "#                             if preds is None:\n",
    "#                                 preds = logits.detach().cpu().numpy()\n",
    "#                                 out_label_ids = inputs['labels'].detach().cpu().numpy()\n",
    "#                             else:\n",
    "#                                 preds = np.append(preds, logits.detach().cpu().numpy(), axis=0)\n",
    "#                                 out_label_ids = np.append(out_label_ids, inputs['labels'].detach().cpu().numpy(), axis=0)\n",
    "\n",
    "#                     test_loss = test_loss / nb_test_steps\n",
    "#                     if args['output_mode'] == \"classification\":\n",
    "#                         preds = np.argmax(preds, axis=1)\n",
    "#                     elif args['output_mode'] == \"regression\":\n",
    "#                         preds = np.squeeze(preds)\n",
    "#                     result, wrong = compute_metrics(EVAL_TASK, preds, out_label_ids)\n",
    "#                     c = result['cf']\n",
    "#                     test_acc=(c[0,0] + c[1,1] + c[2,2] + c[3,3] + c[4,4])/np.sum(np.sum(c))\n",
    "#                     tb_writer.add_scalar('test_loss', test_loss, global_step)\n",
    "#                     tb_writer.add_scalar('test_acc', test_acc, global_step)\n",
    "                    \n",
    "\n",
    "#                 if args['save_steps'] > 0 and global_step % args['save_steps'] == 0:\n",
    "#                     # Save model checkpoint\n",
    "#                     output_dir = os.path.join(args['output_dir'], 'checkpoint-{}'.format(global_step))\n",
    "#                     if not os.path.exists(output_dir):\n",
    "#                         os.makedirs(output_dir)\n",
    "#                     model_to_save = model.module if hasattr(model, 'module') else model  # Take care of distributed/parallel training\n",
    "#                     model_to_save.save_pretrained(output_dir)\n",
    "#                     logger.info(\"Saving model checkpoint to %s\", output_dir)\n",
    "        \n",
    "        \n",
    "        \n",
    "        \n",
    "\n",
    "#     return global_step"
   ]
  },
  {
   "cell_type": "code",
   "execution_count": 13,
   "metadata": {},
   "outputs": [],
   "source": [
    "### Uncomment this if you want to train for the first time\n",
    "# if args['do_train']:\n",
    "#     train_dataset = load_and_cache_examples(task, tokenizer, 'train')\n",
    "#     eval_dataset = load_and_cache_examples(task, tokenizer, 'eval')\n",
    "#     test_dataset = load_and_cache_examples(task, tokenizer, 'test')\n",
    "#     dataset = [train_dataset, eval_dataset, test_dataset]\n",
    "#     global_step= train(dataset, model, tokenizer)\n"
   ]
  },
  {
   "cell_type": "markdown",
   "metadata": {},
   "source": [
    "### Save final checkpoint "
   ]
  },
  {
   "cell_type": "code",
   "execution_count": 14,
   "metadata": {},
   "outputs": [],
   "source": [
    "### Uncomment this if you want to train for the first time\n",
    "# if args['do_train']:\n",
    "#     if not os.path.exists(args['output_dir']):\n",
    "#             os.makedirs(args['output_dir'])\n",
    "#     logger.info(\"Saving model checkpoint to %s\", args['output_dir'])\n",
    "    \n",
    "#     model_to_save = model.module if hasattr(model, 'module') else model  # Take care of distributed/parallel training\n",
    "#     model_to_save.save_pretrained(args['output_dir'])\n",
    "#     tokenizer.save_pretrained(args['output_dir'])\n",
    "#     torch.save(args, os.path.join(args['output_dir'], 'training_args.bin'))    "
   ]
  },
  {
   "cell_type": "markdown",
   "metadata": {},
   "source": [
    "### Test the model"
   ]
  },
  {
   "cell_type": "code",
   "execution_count": 15,
   "metadata": {},
   "outputs": [],
   "source": [
    "def load_and_cache_examples_seedly(task, tokenizer, mode):\n",
    "    processor = seedly_processor[task]()\n",
    "    output_mode = args['output_mode']\n",
    "    \n",
    "    \n",
    "    label_list = processor.get_labels()\n",
    "    if mode == 'train':\n",
    "        examples = processor.get_train_examples('data_seedly/')\n",
    "    elif mode == 'eval':\n",
    "        examples = processor.get_dev_examples('data_seedly/')\n",
    "    elif mode == 'test':\n",
    "        examples = processor.get_test_examples('data_seedly/')\n",
    "    \n",
    "        \n",
    "    if __name__ == \"__main__\":\n",
    "        dataset=yelpDataset(examples, label_list, args, tokenizer, output_mode)\n",
    "    return dataset\n",
    "\n",
    "def evaluate_yelp(model, tokenizer, prefix=\"\"):\n",
    "    EVAL_TASK = args['task_name']\n",
    "    test_dataset = load_and_cache_examples(task, tokenizer, 'test')\n",
    "    test_sampler = SequentialSampler(test_dataset)\n",
    "    test_dataloader = DataLoader(test_dataset, sampler=test_sampler, batch_size=args['eval_batch_size'])\n",
    "\n",
    "    # Eval!\n",
    "    nb_eval_steps = 0\n",
    "    preds = None\n",
    "    out_label_ids = None\n",
    "    for batch in tqdm_notebook(test_dataloader, desc=\"Evaluating\"):\n",
    "        model.eval()\n",
    "        batch = tuple(t.to(device) for t in batch)\n",
    "\n",
    "        with torch.no_grad():\n",
    "            inputs = {'input_ids':      batch[0],\n",
    "                      'attention_mask': batch[1],\n",
    "                      'token_type_ids': batch[2] if args['model_type'] in ['bert', 'xlnet'] else None,  # XLM don't use segment_ids\n",
    "                      'labels':         batch[3]}\n",
    "            outputs = model(batch[0], batch[3])\n",
    "            _, logits = outputs[:2]\n",
    "\n",
    "        nb_eval_steps += 1\n",
    "        if preds is None:\n",
    "            preds = logits.detach().cpu().numpy()\n",
    "            out_label_ids = inputs['labels'].detach().cpu().numpy()\n",
    "        else:\n",
    "            preds = np.append(preds, logits.detach().cpu().numpy(), axis=0)\n",
    "            out_label_ids = np.append(out_label_ids, inputs['labels'].detach().cpu().numpy(), axis=0)\n",
    "\n",
    "    if args['output_mode'] == \"classification\":\n",
    "        preds = np.argmax(preds, axis=1)\n",
    "    elif args['output_mode'] == \"regression\":\n",
    "        preds = np.squeeze(preds)\n",
    "    result, wrong = compute_metrics(EVAL_TASK, preds, out_label_ids)\n",
    "    confusion_matrix = result['cf']\n",
    "    df_cm = pd.DataFrame(confusion_matrix, index = [i for i in \"12345\"],\n",
    "                      columns = [i for i in \"12345\"])\n",
    "    plt.figure(figsize = (10,7))\n",
    "    sn.heatmap(df_cm, annot=True, cmap='gist_earth_r')\n",
    "    acc=(confusion_matrix[0,0] + confusion_matrix[1,1] + confusion_matrix[2,2] + confusion_matrix[3,3] + confusion_matrix[4,4])/np.sum(np.sum(confusion_matrix))\n",
    "    print(\"\\nTest Accuracy of LSTM model trained on yelp dataset tested on yelp: {:.4f}\".format(acc))\n",
    "    \n",
    "    total_param = 0\n",
    "    for param in model.parameters():\n",
    "        # print(param.data.size())\n",
    "        total_param += np.prod(list(param.data.size()))\n",
    "    print('\\nTotal parameters:', total_param)"
   ]
  },
  {
   "cell_type": "code",
   "execution_count": null,
   "metadata": {},
   "outputs": [],
   "source": [
    "model = LSTM_yelp()\n",
    "model.to(device)\n",
    "checkpoint = args['output_dir']+WEIGHTS_NAME\n",
    "print('Loading model from {}'.format(checkpoint))\n",
    "state_dict = torch.load(checkpoint, map_location='cpu')\n",
    "model.load_state_dict(state_dict)\n",
    "# start seedly training,,,returns model\n",
    "evaluate_yelp(model, tokenizer)"
   ]
  },
  {
   "cell_type": "code",
   "execution_count": 16,
   "metadata": {},
   "outputs": [],
   "source": [
    "def evaluate_seedly(model, tokenizer, prefix=\"\"):\n",
    "    EVAL_TASK = args['task_name']\n",
    "    \n",
    "    test_dataset = load_and_cache_examples_seedly(task, tokenizer, 'test')\n",
    "    test_sampler = SequentialSampler(test_dataset)\n",
    "    test_dataloader = DataLoader(test_dataset, sampler=test_sampler, batch_size=args['eval_batch_size'])\n",
    "\n",
    "    # Eval!\n",
    "    nb_eval_steps = 0\n",
    "    preds = None\n",
    "    out_label_ids = None\n",
    "    for batch in tqdm_notebook(test_dataloader, desc=\"Evaluating\"):\n",
    "        model.eval()\n",
    "        batch = tuple(t.to(device) for t in batch)\n",
    "\n",
    "        with torch.no_grad():\n",
    "            inputs = {'input_ids':      batch[0],\n",
    "                      'attention_mask': batch[1],\n",
    "                      'token_type_ids': batch[2] if args['model_type'] in ['bert', 'xlnet'] else None,  # XLM don't use segment_ids\n",
    "                      'labels':         batch[3]}\n",
    "            outputs = model(batch[0], batch[3])\n",
    "            _, logits = outputs[:2]\n",
    "\n",
    "        nb_eval_steps += 1\n",
    "        if preds is None:\n",
    "            preds = logits.detach().cpu().numpy()\n",
    "            out_label_ids = inputs['labels'].detach().cpu().numpy()\n",
    "        else:\n",
    "            preds = np.append(preds, logits.detach().cpu().numpy(), axis=0)\n",
    "            out_label_ids = np.append(out_label_ids, inputs['labels'].detach().cpu().numpy(), axis=0)\n",
    "\n",
    "    if args['output_mode'] == \"classification\":\n",
    "        preds = np.argmax(preds, axis=1)\n",
    "    elif args['output_mode'] == \"regression\":\n",
    "        preds = np.squeeze(preds)\n",
    "    result, wrong = compute_metrics(EVAL_TASK, preds, out_label_ids)\n",
    "    confusion_matrix = result['cf']\n",
    "    df_cm = pd.DataFrame(confusion_matrix, index = [i for i in \"12345\"],\n",
    "                      columns = [i for i in \"12345\"])\n",
    "    plt.figure(figsize = (10,7))\n",
    "    sn.heatmap(df_cm, annot=True, cmap='gist_earth_r')\n",
    "    acc=(confusion_matrix[0,0] + confusion_matrix[1,1] + confusion_matrix[2,2] + confusion_matrix[3,3] + confusion_matrix[4,4])/np.sum(np.sum(confusion_matrix))\n",
    "    print(\"\\nTest Accuracy of LSTM model trained on yelp dataset tested on seedly: {:.4f}\".format(acc))\n",
    "    \n",
    "    total_param = 0\n",
    "    for param in model.parameters():\n",
    "        # print(param.data.size())\n",
    "        total_param += np.prod(list(param.data.size()))\n",
    "    print('\\nTotal parameters:', total_param)"
   ]
  },
  {
   "cell_type": "code",
   "execution_count": 17,
   "metadata": {},
   "outputs": [],
   "source": [
    "def train_transfer(train_dataset, model, tokenizer):\n",
    "    \n",
    "    train_sampler = RandomSampler(train_dataset)\n",
    "    train_dataloader = DataLoader(train_dataset, sampler=train_sampler, batch_size=args['train_batch_size'])\n",
    "    \n",
    "    t_total = len(train_dataloader) // args['gradient_accumulation_steps'] * args['num_train_epochs']\n",
    "    \n",
    "    no_decay = ['bias', 'LayerNorm.weight']\n",
    "    optimizer_grouped_parameters = [\n",
    "        {'params': [p for n, p in model.named_parameters() if not any(nd in n for nd in no_decay)], 'weight_decay': args['weight_decay']},\n",
    "        {'params': [p for n, p in model.named_parameters() if any(nd in n for nd in no_decay)], 'weight_decay': 0.0}\n",
    "        ]\n",
    "    \n",
    "    warmup_steps = math.ceil(t_total * args['warmup_ratio'])\n",
    "    args['warmup_steps'] = warmup_steps if args['warmup_steps'] == 0 else args['warmup_steps']\n",
    "    \n",
    "    optimizer = AdamW(optimizer_grouped_parameters, lr=args['learning_rate'], eps=args['adam_epsilon'])\n",
    "    scheduler = WarmupLinearSchedule(optimizer, warmup_steps=args['warmup_steps'], t_total=t_total)\n",
    "    \n",
    "    if args['fp16']:\n",
    "        try:\n",
    "            from apex import amp\n",
    "        except ImportError:\n",
    "            raise ImportError(\"Please install apex from https://www.github.com/nvidia/apex to use fp16 training.\")\n",
    "        model, optimizer = amp.initialize(model, optimizer, opt_level=args['fp16_opt_level'])\n",
    "        \n",
    "    logger.info(\"***** Running training *****\")\n",
    "    logger.info(\"  Num examples = %d\", len(train_dataset))\n",
    "    logger.info(\"  Num Epochs = %d\", args['num_train_epochs'])\n",
    "    logger.info(\"  Total train batch size  = %d\", args['train_batch_size'])\n",
    "    logger.info(\"  Gradient Accumulation steps = %d\", args['gradient_accumulation_steps'])\n",
    "    logger.info(\"  Total optimization steps = %d\", t_total)\n",
    "\n",
    "    global_step = 0\n",
    "    \n",
    "    model.zero_grad()\n",
    "    train_iterator = trange(int(args['num_train_epochs']), desc=\"Epoch\")\n",
    "    epoch = 0\n",
    "    for _ in train_iterator:\n",
    "        epoch += 1\n",
    "        epoch_iterator = tqdm_notebook(train_dataloader, desc=\"Iteration\")\n",
    "        tr_loss, logging_loss = 0.0, 0.0\n",
    "        nb_train_steps = 0\n",
    "        for step, batch in enumerate(epoch_iterator):\n",
    "            model.train()\n",
    "            batch = tuple(t.to(device) for t in batch)\n",
    "            inputs = {'input_ids':      batch[0],\n",
    "                      'attention_mask': batch[1],\n",
    "                      'token_type_ids': batch[2] if args['model_type'] in ['bert', 'xlnet'] else None,  # XLM don't use segment_ids\n",
    "                      'labels':         batch[3]}\n",
    "            outputs = model(batch[0], batch[3])\n",
    "            loss = outputs[0]  # model outputs are always tuple in pytorch-transformers (see doc)\n",
    "            print(\"\\r%f\" % loss, end='')\n",
    "            nb_train_steps += 1\n",
    "\n",
    "\n",
    "            if args['gradient_accumulation_steps'] > 1:\n",
    "                loss = loss / args['gradient_accumulation_steps']\n",
    "\n",
    "            if args['fp16']:\n",
    "                with amp.scale_loss(loss, optimizer) as scaled_loss:\n",
    "                    scaled_loss.backward()\n",
    "                torch.nn.utils.clip_grad_norm_(amp.master_params(optimizer), args['max_grad_norm'])\n",
    "\n",
    "            else:\n",
    "                loss.backward()\n",
    "                torch.nn.utils.clip_grad_norm_(model.parameters(), args['max_grad_norm'])\n",
    "\n",
    "            tr_loss += loss.item()\n",
    "            if (step + 1) % args['gradient_accumulation_steps'] == 0:\n",
    "                optimizer.step()\n",
    "                scheduler.step()  # Update learning rate schedule\n",
    "                model.zero_grad()\n",
    "                global_step += 1\n",
    "\n",
    "\n",
    "                if args['save_steps'] > 0 and global_step % args['save_steps'] == 0:\n",
    "                    # Save model checkpoint\n",
    "                    output_dir = os.path.join(args['output_dir'], 'checkpoint-{}'.format(global_step))\n",
    "                    if not os.path.exists(output_dir):\n",
    "                        os.makedirs(output_dir)\n",
    "                    model_to_save = model.module if hasattr(model, 'module') else model  # Take care of distributed/parallel training\n",
    "                    model_to_save.save_pretrained(output_dir)\n",
    "                    logger.info(\"Saving model checkpoint to %s\", output_dir)\n",
    "        \n",
    "\n",
    "    return global_step"
   ]
  },
  {
   "cell_type": "code",
   "execution_count": 18,
   "metadata": {},
   "outputs": [
    {
     "name": "stderr",
     "output_type": "stream",
     "text": [
      "INFO:__main__:***** Running training *****\n",
      "INFO:__main__:  Num examples = 4382\n",
      "INFO:__main__:  Num Epochs = 20\n",
      "INFO:__main__:  Total train batch size  = 64\n",
      "INFO:__main__:  Gradient Accumulation steps = 1\n",
      "INFO:__main__:  Total optimization steps = 1380\n",
      "Epoch:   0%|          | 0/20 [00:00<?, ?it/s]"
     ]
    },
    {
     "name": "stdout",
     "output_type": "stream",
     "text": [
      "Loading model from outputs_yelp_logged_LSTM_report/pytorch_model.bin\n"
     ]
    },
    {
     "data": {
      "application/vnd.jupyter.widget-view+json": {
       "model_id": "c6480373fac14a5fac0057823e41036e",
       "version_major": 2,
       "version_minor": 0
      },
      "text/plain": [
       "HBox(children=(IntProgress(value=0, description='Iteration', max=69, style=ProgressStyle(description_width='in…"
      ]
     },
     "metadata": {},
     "output_type": "display_data"
    },
    {
     "name": "stdout",
     "output_type": "stream",
     "text": [
      "0.610788"
     ]
    },
    {
     "name": "stderr",
     "output_type": "stream",
     "text": [
      "\r",
      "Epoch:   5%|▌         | 1/20 [00:26<08:14, 26.02s/it]"
     ]
    },
    {
     "name": "stdout",
     "output_type": "stream",
     "text": [
      "\r",
      "0.930149\n"
     ]
    },
    {
     "data": {
      "application/vnd.jupyter.widget-view+json": {
       "model_id": "6a9121063f9940949127bc2683881f26",
       "version_major": 2,
       "version_minor": 0
      },
      "text/plain": [
       "HBox(children=(IntProgress(value=0, description='Iteration', max=69, style=ProgressStyle(description_width='in…"
      ]
     },
     "metadata": {},
     "output_type": "display_data"
    },
    {
     "name": "stdout",
     "output_type": "stream",
     "text": [
      "0.749606"
     ]
    },
    {
     "name": "stderr",
     "output_type": "stream",
     "text": [
      "\r",
      "Epoch:  10%|█         | 2/20 [00:51<07:43, 25.76s/it]"
     ]
    },
    {
     "name": "stdout",
     "output_type": "stream",
     "text": [
      "\r",
      "1.014582\n"
     ]
    },
    {
     "data": {
      "application/vnd.jupyter.widget-view+json": {
       "model_id": "435053cf420549d981665b0a9932e1f6",
       "version_major": 2,
       "version_minor": 0
      },
      "text/plain": [
       "HBox(children=(IntProgress(value=0, description='Iteration', max=69, style=ProgressStyle(description_width='in…"
      ]
     },
     "metadata": {},
     "output_type": "display_data"
    },
    {
     "name": "stdout",
     "output_type": "stream",
     "text": [
      "0.643544"
     ]
    },
    {
     "name": "stderr",
     "output_type": "stream",
     "text": [
      "\r",
      "Epoch:  15%|█▌        | 3/20 [01:16<07:16, 25.69s/it]"
     ]
    },
    {
     "name": "stdout",
     "output_type": "stream",
     "text": [
      "\r",
      "0.640107\n"
     ]
    },
    {
     "data": {
      "application/vnd.jupyter.widget-view+json": {
       "model_id": "c4b047cf372c4aa08543ee0f9696e2a6",
       "version_major": 2,
       "version_minor": 0
      },
      "text/plain": [
       "HBox(children=(IntProgress(value=0, description='Iteration', max=69, style=ProgressStyle(description_width='in…"
      ]
     },
     "metadata": {},
     "output_type": "display_data"
    },
    {
     "name": "stdout",
     "output_type": "stream",
     "text": [
      "0.888232"
     ]
    },
    {
     "name": "stderr",
     "output_type": "stream",
     "text": [
      "\r",
      "Epoch:  20%|██        | 4/20 [01:42<06:53, 25.86s/it]"
     ]
    },
    {
     "name": "stdout",
     "output_type": "stream",
     "text": [
      "\r",
      "0.706704\n"
     ]
    },
    {
     "data": {
      "application/vnd.jupyter.widget-view+json": {
       "model_id": "143186e64d0441538345fdda391a8cce",
       "version_major": 2,
       "version_minor": 0
      },
      "text/plain": [
       "HBox(children=(IntProgress(value=0, description='Iteration', max=69, style=ProgressStyle(description_width='in…"
      ]
     },
     "metadata": {},
     "output_type": "display_data"
    },
    {
     "name": "stdout",
     "output_type": "stream",
     "text": [
      "0.667993"
     ]
    },
    {
     "name": "stderr",
     "output_type": "stream",
     "text": [
      "\r",
      "Epoch:  25%|██▌       | 5/20 [02:08<06:27, 25.82s/it]"
     ]
    },
    {
     "name": "stdout",
     "output_type": "stream",
     "text": [
      "\r",
      "0.945572\n"
     ]
    },
    {
     "data": {
      "application/vnd.jupyter.widget-view+json": {
       "model_id": "ce7c0f2b117f4084926911f72bd0fc56",
       "version_major": 2,
       "version_minor": 0
      },
      "text/plain": [
       "HBox(children=(IntProgress(value=0, description='Iteration', max=69, style=ProgressStyle(description_width='in…"
      ]
     },
     "metadata": {},
     "output_type": "display_data"
    },
    {
     "name": "stdout",
     "output_type": "stream",
     "text": [
      "0.570999"
     ]
    },
    {
     "name": "stderr",
     "output_type": "stream",
     "text": [
      "\r",
      "Epoch:  30%|███       | 6/20 [02:35<06:03, 25.98s/it]"
     ]
    },
    {
     "name": "stdout",
     "output_type": "stream",
     "text": [
      "\r",
      "0.749739\n"
     ]
    },
    {
     "data": {
      "application/vnd.jupyter.widget-view+json": {
       "model_id": "875c359c85e647a6bcdd8d7f397dc236",
       "version_major": 2,
       "version_minor": 0
      },
      "text/plain": [
       "HBox(children=(IntProgress(value=0, description='Iteration', max=69, style=ProgressStyle(description_width='in…"
      ]
     },
     "metadata": {},
     "output_type": "display_data"
    },
    {
     "name": "stdout",
     "output_type": "stream",
     "text": [
      "0.503128"
     ]
    },
    {
     "name": "stderr",
     "output_type": "stream",
     "text": [
      "\r",
      "Epoch:  35%|███▌      | 7/20 [03:02<05:43, 26.45s/it]"
     ]
    },
    {
     "name": "stdout",
     "output_type": "stream",
     "text": [
      "\r",
      "0.696324\n"
     ]
    },
    {
     "data": {
      "application/vnd.jupyter.widget-view+json": {
       "model_id": "90e4d6dc0c9845a6a8c9b3c2ebfcadae",
       "version_major": 2,
       "version_minor": 0
      },
      "text/plain": [
       "HBox(children=(IntProgress(value=0, description='Iteration', max=69, style=ProgressStyle(description_width='in…"
      ]
     },
     "metadata": {},
     "output_type": "display_data"
    },
    {
     "name": "stdout",
     "output_type": "stream",
     "text": [
      "0.573101"
     ]
    },
    {
     "name": "stderr",
     "output_type": "stream",
     "text": [
      "\r",
      "Epoch:  40%|████      | 8/20 [03:29<05:20, 26.68s/it]"
     ]
    },
    {
     "name": "stdout",
     "output_type": "stream",
     "text": [
      "\r",
      "0.746265\n"
     ]
    },
    {
     "data": {
      "application/vnd.jupyter.widget-view+json": {
       "model_id": "2d154511f0274817ba46ca8726b16304",
       "version_major": 2,
       "version_minor": 0
      },
      "text/plain": [
       "HBox(children=(IntProgress(value=0, description='Iteration', max=69, style=ProgressStyle(description_width='in…"
      ]
     },
     "metadata": {},
     "output_type": "display_data"
    },
    {
     "name": "stdout",
     "output_type": "stream",
     "text": [
      "0.678335"
     ]
    },
    {
     "name": "stderr",
     "output_type": "stream",
     "text": [
      "\r",
      "Epoch:  45%|████▌     | 9/20 [03:57<04:55, 26.84s/it]"
     ]
    },
    {
     "name": "stdout",
     "output_type": "stream",
     "text": [
      "\r",
      "0.317306\n"
     ]
    },
    {
     "data": {
      "application/vnd.jupyter.widget-view+json": {
       "model_id": "49cbb22313ce4bb0b51fe11b5afbb0de",
       "version_major": 2,
       "version_minor": 0
      },
      "text/plain": [
       "HBox(children=(IntProgress(value=0, description='Iteration', max=69, style=ProgressStyle(description_width='in…"
      ]
     },
     "metadata": {},
     "output_type": "display_data"
    },
    {
     "name": "stdout",
     "output_type": "stream",
     "text": [
      "0.301968"
     ]
    },
    {
     "name": "stderr",
     "output_type": "stream",
     "text": [
      "\r",
      "Epoch:  50%|█████     | 10/20 [04:25<04:33, 27.33s/it]"
     ]
    },
    {
     "name": "stdout",
     "output_type": "stream",
     "text": [
      "\r",
      "0.304494\n"
     ]
    },
    {
     "data": {
      "application/vnd.jupyter.widget-view+json": {
       "model_id": "0c70328b9e53447c9235a439ce289084",
       "version_major": 2,
       "version_minor": 0
      },
      "text/plain": [
       "HBox(children=(IntProgress(value=0, description='Iteration', max=69, style=ProgressStyle(description_width='in…"
      ]
     },
     "metadata": {},
     "output_type": "display_data"
    },
    {
     "name": "stdout",
     "output_type": "stream",
     "text": [
      "0.479243"
     ]
    },
    {
     "name": "stderr",
     "output_type": "stream",
     "text": [
      "\r",
      "Epoch:  55%|█████▌    | 11/20 [04:54<04:09, 27.70s/it]"
     ]
    },
    {
     "name": "stdout",
     "output_type": "stream",
     "text": [
      "\r",
      "0.623222\n"
     ]
    },
    {
     "data": {
      "application/vnd.jupyter.widget-view+json": {
       "model_id": "a1c27717fd174ff6833012388fd4d3da",
       "version_major": 2,
       "version_minor": 0
      },
      "text/plain": [
       "HBox(children=(IntProgress(value=0, description='Iteration', max=69, style=ProgressStyle(description_width='in…"
      ]
     },
     "metadata": {},
     "output_type": "display_data"
    },
    {
     "name": "stdout",
     "output_type": "stream",
     "text": [
      "0.314631"
     ]
    },
    {
     "name": "stderr",
     "output_type": "stream",
     "text": [
      "\r",
      "Epoch:  60%|██████    | 12/20 [05:22<03:42, 27.84s/it]"
     ]
    },
    {
     "name": "stdout",
     "output_type": "stream",
     "text": [
      "\r",
      "0.402144\n"
     ]
    },
    {
     "data": {
      "application/vnd.jupyter.widget-view+json": {
       "model_id": "33e19800173040dabc03b1c9d8e5f6f0",
       "version_major": 2,
       "version_minor": 0
      },
      "text/plain": [
       "HBox(children=(IntProgress(value=0, description='Iteration', max=69, style=ProgressStyle(description_width='in…"
      ]
     },
     "metadata": {},
     "output_type": "display_data"
    },
    {
     "name": "stdout",
     "output_type": "stream",
     "text": [
      "0.322716"
     ]
    },
    {
     "name": "stderr",
     "output_type": "stream",
     "text": [
      "\r",
      "Epoch:  65%|██████▌   | 13/20 [05:49<03:13, 27.59s/it]"
     ]
    },
    {
     "name": "stdout",
     "output_type": "stream",
     "text": [
      "\r",
      "0.232034\n"
     ]
    },
    {
     "data": {
      "application/vnd.jupyter.widget-view+json": {
       "model_id": "0be1f59dca1b40ce84e42e809ded5069",
       "version_major": 2,
       "version_minor": 0
      },
      "text/plain": [
       "HBox(children=(IntProgress(value=0, description='Iteration', max=69, style=ProgressStyle(description_width='in…"
      ]
     },
     "metadata": {},
     "output_type": "display_data"
    },
    {
     "name": "stdout",
     "output_type": "stream",
     "text": [
      "0.238261"
     ]
    },
    {
     "name": "stderr",
     "output_type": "stream",
     "text": [
      "\r",
      "Epoch:  70%|███████   | 14/20 [06:15<02:42, 27.13s/it]"
     ]
    },
    {
     "name": "stdout",
     "output_type": "stream",
     "text": [
      "\r",
      "0.556993\n"
     ]
    },
    {
     "data": {
      "application/vnd.jupyter.widget-view+json": {
       "model_id": "2f36e427a4544a0fb1803a869179a077",
       "version_major": 2,
       "version_minor": 0
      },
      "text/plain": [
       "HBox(children=(IntProgress(value=0, description='Iteration', max=69, style=ProgressStyle(description_width='in…"
      ]
     },
     "metadata": {},
     "output_type": "display_data"
    },
    {
     "name": "stdout",
     "output_type": "stream",
     "text": [
      "0.353752"
     ]
    },
    {
     "name": "stderr",
     "output_type": "stream",
     "text": [
      "\r",
      "Epoch:  75%|███████▌  | 15/20 [06:41<02:14, 26.81s/it]"
     ]
    },
    {
     "name": "stdout",
     "output_type": "stream",
     "text": [
      "\r",
      "0.410835\n"
     ]
    },
    {
     "data": {
      "application/vnd.jupyter.widget-view+json": {
       "model_id": "9baea55d31ca4f11a130e149455567b3",
       "version_major": 2,
       "version_minor": 0
      },
      "text/plain": [
       "HBox(children=(IntProgress(value=0, description='Iteration', max=69, style=ProgressStyle(description_width='in…"
      ]
     },
     "metadata": {},
     "output_type": "display_data"
    },
    {
     "name": "stdout",
     "output_type": "stream",
     "text": [
      "0.383927"
     ]
    },
    {
     "name": "stderr",
     "output_type": "stream",
     "text": [
      "\r",
      "Epoch:  80%|████████  | 16/20 [07:09<01:48, 27.13s/it]"
     ]
    },
    {
     "name": "stdout",
     "output_type": "stream",
     "text": [
      "\r",
      "0.319817\n"
     ]
    },
    {
     "data": {
      "application/vnd.jupyter.widget-view+json": {
       "model_id": "e7b055342860459ebda382feac212b55",
       "version_major": 2,
       "version_minor": 0
      },
      "text/plain": [
       "HBox(children=(IntProgress(value=0, description='Iteration', max=69, style=ProgressStyle(description_width='in…"
      ]
     },
     "metadata": {},
     "output_type": "display_data"
    },
    {
     "name": "stdout",
     "output_type": "stream",
     "text": [
      "0.396302"
     ]
    },
    {
     "name": "stderr",
     "output_type": "stream",
     "text": [
      "\r",
      "Epoch:  85%|████████▌ | 17/20 [07:37<01:22, 27.34s/it]"
     ]
    },
    {
     "name": "stdout",
     "output_type": "stream",
     "text": [
      "\r",
      "0.206001\n"
     ]
    },
    {
     "data": {
      "application/vnd.jupyter.widget-view+json": {
       "model_id": "a2d7e6ef51554e00bd6b3a0691e76bfd",
       "version_major": 2,
       "version_minor": 0
      },
      "text/plain": [
       "HBox(children=(IntProgress(value=0, description='Iteration', max=69, style=ProgressStyle(description_width='in…"
      ]
     },
     "metadata": {},
     "output_type": "display_data"
    },
    {
     "name": "stdout",
     "output_type": "stream",
     "text": [
      "0.298361"
     ]
    },
    {
     "name": "stderr",
     "output_type": "stream",
     "text": [
      "\r",
      "Epoch:  90%|█████████ | 18/20 [08:05<00:55, 27.52s/it]"
     ]
    },
    {
     "name": "stdout",
     "output_type": "stream",
     "text": [
      "\r",
      "0.237503\n"
     ]
    },
    {
     "data": {
      "application/vnd.jupyter.widget-view+json": {
       "model_id": "f5365bc3e7514661837729a25d2440fb",
       "version_major": 2,
       "version_minor": 0
      },
      "text/plain": [
       "HBox(children=(IntProgress(value=0, description='Iteration', max=69, style=ProgressStyle(description_width='in…"
      ]
     },
     "metadata": {},
     "output_type": "display_data"
    },
    {
     "name": "stdout",
     "output_type": "stream",
     "text": [
      "0.341278"
     ]
    },
    {
     "name": "stderr",
     "output_type": "stream",
     "text": [
      "\r",
      "Epoch:  95%|█████████▌| 19/20 [08:31<00:27, 27.33s/it]"
     ]
    },
    {
     "name": "stdout",
     "output_type": "stream",
     "text": [
      "\r",
      "0.265791\n"
     ]
    },
    {
     "data": {
      "application/vnd.jupyter.widget-view+json": {
       "model_id": "d7481c9bf8af40a7a84efc668b1a05de",
       "version_major": 2,
       "version_minor": 0
      },
      "text/plain": [
       "HBox(children=(IntProgress(value=0, description='Iteration', max=69, style=ProgressStyle(description_width='in…"
      ]
     },
     "metadata": {},
     "output_type": "display_data"
    },
    {
     "name": "stdout",
     "output_type": "stream",
     "text": [
      "0.283752"
     ]
    },
    {
     "name": "stderr",
     "output_type": "stream",
     "text": [
      "Epoch: 100%|██████████| 20/20 [08:57<00:00, 26.89s/it]\n",
      "INFO:__main__:Saving model checkpoint to outputs_seedly_logged_LSTM_report_transfer\n"
     ]
    },
    {
     "name": "stdout",
     "output_type": "stream",
     "text": [
      "\r",
      "0.305967\n"
     ]
    },
    {
     "name": "stderr",
     "output_type": "stream",
     "text": [
      "INFO:__main__:Model weights saved in outputs_seedly_logged_LSTM_report_transfer/pytorch_model.bin\n"
     ]
    }
   ],
   "source": [
    "### Uncomment this if you want to train for the first time\n",
    "# model = LSTM_yelp()\n",
    "# model.to(device)\n",
    "# checkpoint = args['output_dir']+WEIGHTS_NAME\n",
    "# print('Loading model from {}'.format(checkpoint))\n",
    "# state_dict = torch.load(checkpoint, map_location='cpu')\n",
    "# model.load_state_dict(state_dict)\n",
    "# # start seedly training,,,returns model\n",
    "# args['output_dir']='outputs_seedly_logged_LSTM_report_transfer'\n",
    "# args['num_train_epochs'] = 20\n",
    "\n",
    "# if os.path.exists(args['output_dir']) and os.listdir(args['output_dir']) and args['do_train'] and not args['overwrite_output_dir']:\n",
    "#     raise ValueError(\"Output directory ({}) already exists and is not empty. Use --overwrite_output_dir to overcome.\".format(args['output_dir']))\n",
    "\n",
    "# if args['do_train']:\n",
    "#     train_dataset = load_and_cache_examples_seedly(task, tokenizer, 'train')\n",
    "#     global_step= train_transfer(train_dataset, model, tokenizer)\n",
    "#     if not os.path.exists(args['output_dir']):\n",
    "#             os.makedirs(args['output_dir'])\n",
    "#     logger.info(\"Saving model checkpoint to %s\", args['output_dir'])\n",
    "    \n",
    "#     model_to_save = model.module if hasattr(model, 'module') else model  # Take care of distributed/parallel training\n",
    "#     model_to_save.save_pretrained(args['output_dir'])\n",
    "#     tokenizer.save_pretrained(args['output_dir'])\n",
    "#     torch.save(args, os.path.join(args['output_dir'], 'training_args.bin'))\n",
    "\n"
   ]
  },
  {
   "cell_type": "code",
   "execution_count": 20,
   "metadata": {},
   "outputs": [
    {
     "name": "stdout",
     "output_type": "stream",
     "text": [
      "Loading model from outputs_seedly_logged_LSTM_report_transfer/pytorch_model.bin\n"
     ]
    },
    {
     "data": {
      "application/vnd.jupyter.widget-view+json": {
       "model_id": "d8f2132a68fb40ea9ffa662a9978e00f",
       "version_major": 2,
       "version_minor": 0
      },
      "text/plain": [
       "HBox(children=(IntProgress(value=0, description='Evaluating', max=9, style=ProgressStyle(description_width='in…"
      ]
     },
     "metadata": {},
     "output_type": "display_data"
    },
    {
     "name": "stdout",
     "output_type": "stream",
     "text": [
      "\n",
      "\n",
      "Test Accuracy of LSTM model trained on yelp dataset tested on seedly: 0.6442\n",
      "\n",
      "Total parameters: 45896453\n"
     ]
    },
    {
     "data": {
      "image/png": "[encoded data removed]",
      "text/plain": [
       "<Figure size 720x504 with 2 Axes>"
      ]
     },
     "metadata": {
      "needs_background": "light"
     },
     "output_type": "display_data"
    }
   ],
   "source": [
    "args['output_dir']='outputs_seedly_logged_LSTM_report_transfer/'\n",
    "model = LSTM_yelp()\n",
    "model.to(device)\n",
    "checkpoint = args['output_dir']+WEIGHTS_NAME\n",
    "print('Loading model from {}'.format(checkpoint))\n",
    "state_dict = torch.load(checkpoint, map_location='cpu')\n",
    "model.load_state_dict(state_dict)\n",
    "evaluate_seedly(model, tokenizer)"
   ]
  },
  {
   "cell_type": "code",
   "execution_count": null,
   "metadata": {},
   "outputs": [],
   "source": []
  },
  {
   "cell_type": "code",
   "execution_count": null,
   "metadata": {},
   "outputs": [],
   "source": []
  },
  {
   "cell_type": "code",
   "execution_count": null,
   "metadata": {},
   "outputs": [],
   "source": []
  },
  {
   "cell_type": "code",
   "execution_count": null,
   "metadata": {},
   "outputs": [],
   "source": []
  }
 ],
 "metadata": {
  "kernelspec": {
   "display_name": "Python 3",
   "language": "python",
   "name": "python3"
  },
  "language_info": {
   "codemirror_mode": {
    "name": "ipython",
    "version": 3
   },
   "file_extension": ".py",
   "mimetype": "text/x-python",
   "name": "python",
   "nbconvert_exporter": "python",
   "pygments_lexer": "ipython3",
   "version": "3.7.4"
  }
 },
 "nbformat": 4,
 "nbformat_minor": 4
}
