{
 "cells": [
  {
   "cell_type": "markdown",
   "metadata": {},
   "source": [
    "# Bag of Words model for Rating Prediction from Text Review"
   ]
  },
  {
   "cell_type": "code",
   "execution_count": 1,
   "metadata": {},
   "outputs": [],
   "source": [
    "import pandas as pd\n",
    "import numpy as np\n",
    "import time\n",
    "\n",
    "import numpy as np\n",
    "import re\n",
    "import nltk\n",
    "from sklearn.datasets import load_files\n",
    "import matplotlib.pyplot as plt\n",
    "import seaborn as sn\n",
    "import pickle\n",
    "from nltk.corpus import stopwords\n",
    "\n",
    "import torch.nn as nn\n",
    "import torch\n",
    "import torch.nn.functional as F\n",
    "import torch.optim as optim\n",
    "\n",
    "from tensorboardX import SummaryWriter\n",
    "import os\n",
    "import glob"
   ]
  },
  {
   "cell_type": "code",
   "execution_count": 22,
   "metadata": {},
   "outputs": [],
   "source": [
    "# if torch.cuda.is_available():\n",
    "#     print('cuda available with GPU:',torch.cuda.get_device_name(0))\n",
    "#     device = torch.device(\"cuda\")\n",
    "# else:\n",
    "#     device = torch.device(\"cpu\")\n",
    "device = torch.device(\"cpu\")"
   ]
  },
  {
   "cell_type": "markdown",
   "metadata": {},
   "source": [
    "## Loading data from csv file"
   ]
  },
  {
   "cell_type": "code",
   "execution_count": 3,
   "metadata": {},
   "outputs": [],
   "source": [
    "seedly_df = pd.read_csv('data_seedly/seedly.csv')\n",
    "seedly_df = seedly_df.replace({'ratings': {1: 100, 2: 200, 3:300, 4:400, 5:500}})\n",
    "seedly_df = seedly_df.replace({'ratings': {100: 0, 200: 1, 300: 2, 400: 3, 500: 4}})\n",
    "\n",
    "train_df = pd.read_csv('data_seedly/' + \"train.tsv\", sep='\\t', names=['label', 'text'])\n",
    "test_df = pd.read_csv('data_seedly/' + 'test.tsv', sep='\\t', names=['label', 'text'])"
   ]
  },
  {
   "cell_type": "code",
   "execution_count": 4,
   "metadata": {},
   "outputs": [
    {
     "data": {
      "text/html": [
       "<div>\n",
       "<style scoped>\n",
       "    .dataframe tbody tr th:only-of-type {\n",
       "        vertical-align: middle;\n",
       "    }\n",
       "\n",
       "    .dataframe tbody tr th {\n",
       "        vertical-align: top;\n",
       "    }\n",
       "\n",
       "    .dataframe thead th {\n",
       "        text-align: right;\n",
       "    }\n",
       "</style>\n",
       "<table border=\"1\" class=\"dataframe\">\n",
       "  <thead>\n",
       "    <tr style=\"text-align: right;\">\n",
       "      <th></th>\n",
       "      <th>ratings</th>\n",
       "      <th>text</th>\n",
       "    </tr>\n",
       "  </thead>\n",
       "  <tbody>\n",
       "    <tr>\n",
       "      <td>0</td>\n",
       "      <td>3</td>\n",
       "      <td>no frills telco, but do give existing customer...</td>\n",
       "    </tr>\n",
       "    <tr>\n",
       "      <td>1</td>\n",
       "      <td>4</td>\n",
       "      <td>application process  the application process w...</td>\n",
       "    </tr>\n",
       "    <tr>\n",
       "      <td>2</td>\n",
       "      <td>3</td>\n",
       "      <td>impressive branding at the start. app has a gr...</td>\n",
       "    </tr>\n",
       "    <tr>\n",
       "      <td>3</td>\n",
       "      <td>3</td>\n",
       "      <td>i haven’t started yet, and i really would have...</td>\n",
       "    </tr>\n",
       "    <tr>\n",
       "      <td>4</td>\n",
       "      <td>4</td>\n",
       "      <td>2 years on circles.life and their customer sup...</td>\n",
       "    </tr>\n",
       "  </tbody>\n",
       "</table>\n",
       "</div>"
      ],
      "text/plain": [
       "   ratings                                               text\n",
       "0        3  no frills telco, but do give existing customer...\n",
       "1        4  application process  the application process w...\n",
       "2        3  impressive branding at the start. app has a gr...\n",
       "3        3  i haven’t started yet, and i really would have...\n",
       "4        4  2 years on circles.life and their customer sup..."
      ]
     },
     "execution_count": 4,
     "metadata": {},
     "output_type": "execute_result"
    }
   ],
   "source": [
    "seedly_df['text'] = seedly_df['text'].str.lower()\n",
    "train_df['text'] = train_df['text'].str.lower()\n",
    "test_df['text'] = test_df['text'].str.lower()\n",
    "seedly_df.head()"
   ]
  },
  {
   "cell_type": "code",
   "execution_count": 5,
   "metadata": {},
   "outputs": [
    {
     "name": "stdout",
     "output_type": "stream",
     "text": [
      "The class distribution is:  Counter({4: 2758, 3: 974, 2: 291, 0: 255, 1: 104})\n"
     ]
    }
   ],
   "source": [
    "X_train = train_df['text'].tolist()\n",
    "y_train = train_df['label'].tolist()\n",
    "X_test = test_df['text'].tolist()\n",
    "y_test = test_df['label'].tolist()\n",
    "X_all = X_train + X_test\n",
    "\n",
    "from collections import Counter\n",
    "print(\"The class distribution is: \", Counter(y_train))"
   ]
  },
  {
   "cell_type": "markdown",
   "metadata": {},
   "source": [
    "## Text preprocessing"
   ]
  },
  {
   "cell_type": "code",
   "execution_count": 6,
   "metadata": {},
   "outputs": [],
   "source": [
    "documents = []\n",
    "\n",
    "from nltk.stem import WordNetLemmatizer\n",
    "stemmer = WordNetLemmatizer()\n",
    "\n",
    "def pre_processing(X):\n",
    "    for sen in range(0, len(X)):\n",
    "        # Remove all the special characters\n",
    "        document = re.sub(r'\\W', ' ', str(X[sen]))\n",
    "        # remove all single characters\n",
    "        document = re.sub(r'\\s+[a-zA-Z]\\s+', ' ', document)\n",
    "        # Remove single characters from the start\n",
    "        document = re.sub(r'\\^[a-zA-Z]\\s+', ' ', document) \n",
    "        # Substituting multiple spaces with single space\n",
    "        document = re.sub(r'\\s+', ' ', document, flags=re.I)\n",
    "        # Removing prefixed 'b'\n",
    "        document = re.sub(r'^b\\s+', '', document)\n",
    "        # Converting to Lowercase\n",
    "        document = document.lower()\n",
    "        # Lemmatization\n",
    "        document = document.split()\n",
    "        document = [stemmer.lemmatize(word) for word in document]\n",
    "        document = ' '.join(document)\n",
    "\n",
    "        documents.append(document)\n",
    "    return documents\n",
    "documents = pre_processing(X_all)"
   ]
  },
  {
   "cell_type": "markdown",
   "metadata": {},
   "source": [
    "## Importing all sklearn necessities"
   ]
  },
  {
   "cell_type": "code",
   "execution_count": 7,
   "metadata": {},
   "outputs": [],
   "source": [
    "from sklearn.feature_extraction.text import CountVectorizer\n",
    "from sklearn.feature_extraction.text import TfidfTransformer\n",
    "from sklearn.model_selection import train_test_split\n",
    "from sklearn.ensemble import RandomForestClassifier\n",
    "from sklearn.linear_model import LogisticRegression\n",
    "from sklearn.svm import LinearSVC\n",
    "\n",
    "from sklearn.metrics import classification_report, confusion_matrix, accuracy_score"
   ]
  },
  {
   "cell_type": "markdown",
   "metadata": {},
   "source": [
    "## TF-IDF Vectorizer"
   ]
  },
  {
   "cell_type": "code",
   "execution_count": 8,
   "metadata": {},
   "outputs": [
    {
     "data": {
      "text/plain": [
       "(4930, 1500)"
      ]
     },
     "execution_count": 8,
     "metadata": {},
     "output_type": "execute_result"
    }
   ],
   "source": [
    "vectorizer = CountVectorizer(max_features=1500, min_df=5, max_df=0.7, stop_words=stopwords.words('english'))\n",
    "X = vectorizer.fit_transform(documents).toarray()\n",
    "tfidfconverter = TfidfTransformer()\n",
    "X = tfidfconverter.fit_transform(X).toarray()\n",
    "X.shape"
   ]
  },
  {
   "cell_type": "code",
   "execution_count": 9,
   "metadata": {},
   "outputs": [],
   "source": [
    "X_train = vectorizer.transform(X_train).toarray()\n",
    "X_train = tfidfconverter.transform(X_train).toarray()\n",
    "X_test = vectorizer.transform(X_test).toarray()\n",
    "X_test = tfidfconverter.transform(X_test).toarray()"
   ]
  },
  {
   "cell_type": "markdown",
   "metadata": {},
   "source": [
    "## Function definition to split data, fit classifier and show results"
   ]
  },
  {
   "cell_type": "code",
   "execution_count": 10,
   "metadata": {},
   "outputs": [],
   "source": [
    "def run_sklearn_classifier(classifier, data_X_y):\n",
    "    X_train, X_test, y_train, y_test = data_X_y\n",
    "    classifier.fit(X_train, y_train)\n",
    "    y_pred = classifier.predict(X_test)\n",
    "\n",
    "    # print(\"\\n[R] Confusion Matrix:\\n\",confusion_matrix(y_test,y_pred))\n",
    "    # print(\"\\n[R] Classification Report:\\n\", classification_report(y_test,y_pred))\n",
    "\n",
    "    print(\"\\n[R] The accuracy score for {} is: {}\".format(str(classifier).split('(')[0], accuracy_score(y_test, y_pred)))\n",
    "\n",
    "    df_cm = pd.DataFrame(confusion_matrix(y_test,y_pred), index = [i for i in \"12345\"],\n",
    "                      columns = [i for i in \"12345\"])\n",
    "    plt.figure(figsize = (10,7))\n",
    "    sn.heatmap(df_cm, annot=True, cmap='gist_earth_r')"
   ]
  },
  {
   "cell_type": "markdown",
   "metadata": {},
   "source": [
    "## Results for RandomForestClassifier"
   ]
  },
  {
   "cell_type": "code",
   "execution_count": 11,
   "metadata": {},
   "outputs": [],
   "source": [
    "# clf_RF = RandomForestClassifier(n_estimators=1000, random_state=0)\n",
    "# data_X_y = X_train, X_test, y_train, y_test\n",
    "# run_sklearn_classifier(clf_RF, data_X_y)"
   ]
  },
  {
   "cell_type": "markdown",
   "metadata": {},
   "source": [
    "## Results for LogisticRegressionClassifier"
   ]
  },
  {
   "cell_type": "code",
   "execution_count": 12,
   "metadata": {},
   "outputs": [
    {
     "name": "stdout",
     "output_type": "stream",
     "text": [
      "\n",
      "[R] The accuracy score for LogisticRegression is: 0.6514598540145985\n"
     ]
    },
    {
     "data": {
      "image/png": "[encoded data removed]",
      "text/plain": [
       "<Figure size 720x504 with 2 Axes>"
      ]
     },
     "metadata": {
      "needs_background": "light"
     },
     "output_type": "display_data"
    }
   ],
   "source": [
    "clf_LR = LogisticRegression(random_state=0, solver='lbfgs', multi_class='multinomial')\n",
    "data_X_y = X_train, X_test, y_train, y_test\n",
    "run_sklearn_classifier(clf_LR, data_X_y)"
   ]
  },
  {
   "cell_type": "markdown",
   "metadata": {},
   "source": [
    "## Results for LinearSVM Classifier"
   ]
  },
  {
   "cell_type": "code",
   "execution_count": 13,
   "metadata": {},
   "outputs": [
    {
     "name": "stdout",
     "output_type": "stream",
     "text": [
      "\n",
      "[R] The accuracy score for LinearSVC is: 0.6459854014598541\n"
     ]
    },
    {
     "data": {
      "image/png": "[encoded data removed]",
      "text/plain": [
       "<Figure size 720x504 with 2 Axes>"
      ]
     },
     "metadata": {
      "needs_background": "light"
     },
     "output_type": "display_data"
    }
   ],
   "source": [
    "clf_SVM = LinearSVC(random_state=0, tol=1e-5)\n",
    "data_X_y = X_train, X_test, y_train, y_test\n",
    "run_sklearn_classifier(clf_SVM, data_X_y)"
   ]
  },
  {
   "cell_type": "markdown",
   "metadata": {},
   "source": [
    "## MLP"
   ]
  },
  {
   "cell_type": "code",
   "execution_count": 14,
   "metadata": {},
   "outputs": [],
   "source": [
    "class MLP(nn.Module):\n",
    "    def __init__(self, input_size, hidden_size, num_classes):\n",
    "        super(MLP, self).__init__()\n",
    "        self.fc1 = nn.Linear(input_size, hidden_size) \n",
    "        self.relu1 = nn.ReLU()\n",
    "        # self.fc2 = nn.Linear(hidden_size, hidden_size)\n",
    "        # self.relu2 = nn.ReLU()\n",
    "        self.dropout = nn.Dropout(0.4)\n",
    "        self.fc3 = nn.Linear(hidden_size, num_classes)\n",
    "        \n",
    "    \n",
    "    def forward(self, x):\n",
    "        out = self.fc1(x)\n",
    "        out = self.relu1(out)\n",
    "        # out = self.fc2(out)\n",
    "        # out = self.relu2(out)\n",
    "        out = self.dropout(out)\n",
    "        out = self.fc3(out)\n",
    "        return out"
   ]
  },
  {
   "cell_type": "code",
   "execution_count": 15,
   "metadata": {},
   "outputs": [],
   "source": [
    "# X_train, X_test, y_train, y_test = train_test_split(X, y, test_size=0.2, random_state=0)"
   ]
  },
  {
   "cell_type": "code",
   "execution_count": 16,
   "metadata": {},
   "outputs": [],
   "source": [
    "from torch.utils.data import TensorDataset, DataLoader\n",
    "batch_size = 64\n",
    "\n",
    "x_train = torch.tensor(X_train, dtype=torch.float)\n",
    "y_train = torch.tensor(y_train, dtype=torch.long)\n",
    "train = TensorDataset(x_train, y_train)\n",
    "train_loader = DataLoader(train, batch_size=batch_size)\n",
    "\n",
    "x_test = torch.tensor(X_test, dtype=torch.float)\n",
    "y_test = torch.tensor(y_test, dtype=torch.long)\n",
    "test = TensorDataset(x_test, y_test)\n",
    "test_loader = DataLoader(test, batch_size=batch_size)"
   ]
  },
  {
   "cell_type": "code",
   "execution_count": 17,
   "metadata": {},
   "outputs": [],
   "source": [
    "model = MLP(X.shape[1], 256, 5) "
   ]
  },
  {
   "cell_type": "code",
   "execution_count": 18,
   "metadata": {},
   "outputs": [],
   "source": [
    "loss_function = nn.CrossEntropyLoss()\n",
    "\n",
    "def accuracy(scores, targets):\n",
    "    scores = scores.detach().argmax(dim=1)\n",
    "    acc = (scores==targets).float().sum().item()\n",
    "    return acc\n",
    "\n",
    "def train_epoch(model, optimizer, device, data_loader, epoch):\n",
    "    model.train()\n",
    "    epoch_loss = 0\n",
    "    epoch_acc = 0\n",
    "    nb_data = 0\n",
    "    \n",
    "    for iter, (data, target) in enumerate(data_loader):\n",
    "        data = data.to(device)\n",
    "        target = target.to(device)\n",
    "        optimizer.zero_grad()\n",
    "        output = model(data)\n",
    "        loss = loss_function(output, target)\n",
    "        loss.backward()\n",
    "        optimizer.step()\n",
    "        \n",
    "        batch_loss = loss.detach().item()\n",
    "        epoch_loss += batch_loss\n",
    "        epoch_acc += accuracy(output, target)\n",
    "        nb_data += target.size(0)\n",
    "        \n",
    "    epoch_loss /= (iter + 1)\n",
    "    epoch_acc /= nb_data\n",
    "    \n",
    "    return epoch_loss, epoch_acc, optimizer\n",
    "\n",
    "def evaluate_network(model, device, data_loader, epoch):\n",
    "    model.eval()\n",
    "    epoch_loss = 0\n",
    "    epoch_acc = 0\n",
    "    nb_data = 0\n",
    "    \n",
    "    with torch.no_grad():\n",
    "        for iter, (data, target) in enumerate(data_loader):\n",
    "            data = data.to(device)\n",
    "            target = target.to(device)\n",
    "            output = model(data)\n",
    "            loss = loss_function(output, target)\n",
    "            batch_loss = loss.detach().item()\n",
    "            \n",
    "            epoch_loss += batch_loss\n",
    "            epoch_acc += accuracy(output, target)\n",
    "            nb_data += target.size(0)\n",
    "            \n",
    "        epoch_loss /= (iter + 1)\n",
    "        epoch_acc /= nb_data\n",
    "        \n",
    "    return epoch_loss, epoch_acc"
   ]
  },
  {
   "cell_type": "code",
   "execution_count": 19,
   "metadata": {
    "scrolled": false
   },
   "outputs": [],
   "source": [
    "# ####################################################\n",
    "# # Uncomment this code block, if you want to train\n",
    "# ####################################################\n",
    "# learning_rate = 1e-4\n",
    "\n",
    "# print(\"MODEL DETAILS:\\n\")\n",
    "# print(model)\n",
    "# total_param = 0\n",
    "# for param in model.parameters():\n",
    "#     # print(param.data.size())\n",
    "#     total_param += np.prod(list(param.data.size()))\n",
    "# print('Total parameters:', total_param)\n",
    "\n",
    "# t0 = time.time()\n",
    "# per_epoch_time = []\n",
    "\n",
    "# log_dir = 'out/logs/log_' + time.strftime('%Hh%Mm%Ss_on_%b_%d_%Y')\n",
    "# writer = SummaryWriter(log_dir=log_dir)\n",
    "\n",
    "# model = MLP(X.shape[1], 256, 5) \n",
    "# model.to(device)\n",
    "# optimizer = optim.Adam(model.parameters(), lr=learning_rate)\n",
    "\n",
    "# epoch_train_losses, epoch_test_losses = [], []\n",
    "# epoch_train_accs, epoch_test_accs = [], []\n",
    "\n",
    "# for epoch in range(20):\n",
    "#     start = time.time()\n",
    "#     epoch_train_loss, epoch_train_acc, optimizer = train_epoch(model, optimizer, device, train_loader, epoch)\n",
    "#     epoch_test_loss, epoch_test_acc = evaluate_network(model, device, test_loader, epoch)\n",
    "\n",
    "#     epoch_train_losses.append(epoch_train_loss)\n",
    "#     epoch_test_losses.append(epoch_test_loss)\n",
    "#     epoch_train_accs.append(epoch_train_acc)\n",
    "#     epoch_test_accs.append(epoch_test_acc)\n",
    "\n",
    "#     writer.add_scalar('train/_loss', epoch_train_loss, epoch)\n",
    "#     writer.add_scalar('test/_loss', epoch_test_loss, epoch)\n",
    "#     writer.add_scalar('train/_acc', epoch_train_acc, epoch)\n",
    "#     writer.add_scalar('test/_acc', epoch_test_acc, epoch)\n",
    "    \n",
    "\n",
    "#     print(\"\"\"Epoch {}, time {:.4f}s,\n",
    "#              train_loss: {:.4f}, test_loss: {:.4f}, train_acc: {:.4f}, test_acc: {:.4f}\"\"\".format(epoch,\n",
    "#                                         time.time()-start, epoch_train_loss, epoch_test_loss,\n",
    "#                                         epoch_train_acc, epoch_test_acc))\n",
    "\n",
    "#     per_epoch_time.append(time.time()-start)\n",
    "\n",
    "#     # Saving checkpoint\n",
    "#     ckpt_dir = 'out/ckpt'\n",
    "#     if not os.path.exists(ckpt_dir):\n",
    "#         os.makedirs(ckpt_dir)\n",
    "#     torch.save(model.state_dict(), '{}.pkl'.format(ckpt_dir + \"/epoch_\" + str(epoch)))\n",
    "\n",
    "#     files = glob.glob(ckpt_dir + '/*.pkl')\n",
    "#     for file in files:\n",
    "#         epoch_nb = file.split('_')[-1]\n",
    "#         epoch_nb = int(epoch_nb.split('.')[0])\n",
    "#         if epoch_nb < epoch-1:\n",
    "#             os.remove(file)\n",
    "\n",
    "# _, test_acc = evaluate_network(model, device, test_loader, epoch)\n",
    "\n",
    "# print(\"Test Accuracy [LAST EPOCH]: {:.4f}\".format(test_acc))\n",
    "# print(\"TOTAL TIME TAKEN: {:.4f}hrs\".format((time.time()-t0)/3600))\n",
    "# print(\"AVG TIME PER EPOCH: {:.4f}s\".format(np.mean(per_epoch_time)))\n",
    "\n",
    "# writer.close()"
   ]
  },
  {
   "cell_type": "code",
   "execution_count": 20,
   "metadata": {},
   "outputs": [],
   "source": [
    "def show_confusion_matrix(model, test_loader, nb_classes=5):\n",
    "    nb_classes = 5\n",
    "\n",
    "    confusion_matrix = torch.zeros(nb_classes, nb_classes)\n",
    "    with torch.no_grad():\n",
    "        for i, (inputs, classes) in enumerate(test_loader):\n",
    "            inputs = inputs.to(device)\n",
    "            classes = classes.to(device)\n",
    "            outputs = model(inputs)\n",
    "            _, preds = torch.max(outputs, 1)\n",
    "            for t, p in zip(classes.view(-1), preds.view(-1)):\n",
    "                    confusion_matrix[t.long(), p.long()] += 1\n",
    "    cm = np.array(confusion_matrix)\n",
    "    confusion_matrix = cm.astype(int)\n",
    "    df_cm = pd.DataFrame(confusion_matrix, index = [i for i in \"12345\"],\n",
    "                      columns = [i for i in \"12345\"])\n",
    "    plt.figure(figsize = (10,7))\n",
    "    sn.heatmap(df_cm, annot=True, cmap='gist_earth_r')"
   ]
  },
  {
   "cell_type": "code",
   "execution_count": 23,
   "metadata": {},
   "outputs": [
    {
     "name": "stdout",
     "output_type": "stream",
     "text": [
      "MLP MODEL DETAILS:\n",
      "\n",
      "MLP(\n",
      "  (fc1): Linear(in_features=1500, out_features=256, bias=True)\n",
      "  (relu1): ReLU()\n",
      "  (dropout): Dropout(p=0.4, inplace=False)\n",
      "  (fc3): Linear(in_features=256, out_features=5, bias=True)\n",
      ")\n",
      "Total parameters: 385541\n",
      "\n",
      "Test Accuracy of MLP model: 0.6624\n"
     ]
    },
    {
     "data": {
      "image/png": "[encoded data removed]",
      "text/plain": [
       "<Figure size 720x504 with 2 Axes>"
      ]
     },
     "metadata": {
      "needs_background": "light"
     },
     "output_type": "display_data"
    }
   ],
   "source": [
    "file_ckpt = 'mlp_epoch_19_best.pkl'\n",
    "\n",
    "model = MLP(X.shape[1], 256, 5) \n",
    "model.load_state_dict(torch.load(file_ckpt))\n",
    "_, test_acc = evaluate_network(model, device, test_loader, epoch=5)\n",
    "print(\"MLP MODEL DETAILS:\\n\")\n",
    "print(model)\n",
    "total_param = 0\n",
    "for param in model.parameters():\n",
    "    # print(param.data.size())\n",
    "    total_param += np.prod(list(param.data.size()))\n",
    "print('Total parameters:', total_param)\n",
    "print(\"\\nTest Accuracy of MLP model: {:.4f}\".format(test_acc))\n",
    "\n",
    "show_confusion_matrix(model, test_loader)"
   ]
  },
  {
   "cell_type": "code",
   "execution_count": null,
   "metadata": {},
   "outputs": [],
   "source": []
  },
  {
   "cell_type": "code",
   "execution_count": null,
   "metadata": {},
   "outputs": [],
   "source": []
  },
  {
   "cell_type": "code",
   "execution_count": null,
   "metadata": {},
   "outputs": [],
   "source": []
  },
  {
   "cell_type": "code",
   "execution_count": null,
   "metadata": {},
   "outputs": [],
   "source": []
  },
  {
   "cell_type": "code",
   "execution_count": null,
   "metadata": {},
   "outputs": [],
   "source": []
  },
  {
   "cell_type": "code",
   "execution_count": null,
   "metadata": {},
   "outputs": [],
   "source": []
  }
 ],
 "metadata": {
  "kernelspec": {
   "display_name": "Python 3",
   "language": "python",
   "name": "python3"
  },
  "language_info": {
   "codemirror_mode": {
    "name": "ipython",
    "version": 3
   },
   "file_extension": ".py",
   "mimetype": "text/x-python",
   "name": "python",
   "nbconvert_exporter": "python",
   "pygments_lexer": "ipython3",
   "version": "3.7.4"
  }
 },
 "nbformat": 4,
 "nbformat_minor": 2
}
